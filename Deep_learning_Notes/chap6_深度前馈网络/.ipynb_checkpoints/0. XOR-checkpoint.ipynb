{
 "cells": [
  {
   "cell_type": "markdown",
   "metadata": {},
   "source": [
    "# 神经网络引入以及XOR示例\n",
    "所有的机器学习模型都是在寻找一个函数$y = f(x)$,  传统的机器学习模型，都是假定了函数$f(x)$的形式，在该形式的函数搜索空间里去寻找训练数据$X$最优的参数，但是这种机器学习模型的表现形式具有局限性，比如LR模型，本身只能对特征做线性的组合，不能表示更复杂的特征组合，更复杂的特征做法\n",
    "\n",
    "神经网络是一个万能近似函数，"
   ]
  },
  {
   "cell_type": "code",
   "execution_count": null,
   "metadata": {},
   "outputs": [],
   "source": []
  }
 ],
 "metadata": {
  "kernelspec": {
   "display_name": "Python 3",
   "language": "python",
   "name": "python3"
  },
  "language_info": {
   "codemirror_mode": {
    "name": "ipython",
    "version": 3
   },
   "file_extension": ".py",
   "mimetype": "text/x-python",
   "name": "python",
   "nbconvert_exporter": "python",
   "pygments_lexer": "ipython3",
   "version": "3.7.4"
  }
 },
 "nbformat": 4,
 "nbformat_minor": 2
}
