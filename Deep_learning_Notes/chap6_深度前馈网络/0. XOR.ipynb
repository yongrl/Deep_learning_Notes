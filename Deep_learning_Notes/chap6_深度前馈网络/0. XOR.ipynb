{
 "cells": [
  {
   "cell_type": "markdown",
   "metadata": {},
   "source": [
    "# 神经网络引入以及XOR示例\n",
    "所有的机器学习模型都是在寻找一个函数$y = f(x)$,  传统的机器学习模型，都是假定了函数$f(x)$的形式，在该形式的函数搜索空间里去寻找训练数据$X$最优的参数，但是这种机器学习模型的表现形式具有局限性，比如LR模型，本身只能对特征做线性的组合，不能表示更复杂的特征组合，更复杂的特征做法\n",
    "\n",
    "神经网络是一个万能近似函数，\n",
    "\n",
    "## XOR\n",
    "$f(X) = W_1*\\sigma(W_0X + b_0)+b_1$\n"
   ]
  },
  {
   "cell_type": "markdown",
   "metadata": {},
   "source": [
    "### 0. 引入矩阵计算包"
   ]
  },
  {
   "cell_type": "code",
   "execution_count": 1,
   "metadata": {},
   "outputs": [],
   "source": [
    "import  numpy as np"
   ]
  },
  {
   "cell_type": "markdown",
   "metadata": {},
   "source": [
    "### 1. 定义输入和变量"
   ]
  },
  {
   "cell_type": "code",
   "execution_count": 5,
   "metadata": {},
   "outputs": [],
   "source": [
    "# 样本输入\n",
    "X = np.array([[1,1],\n",
    "        [1,0],\n",
    "        [0,1],\n",
    "        [0,0]])"
   ]
  },
  {
   "cell_type": "code",
   "execution_count": 7,
   "metadata": {},
   "outputs": [],
   "source": [
    "Y = np.array([[0],\n",
    "        [1],\n",
    "        [1],\n",
    "        [0]])"
   ]
  },
  {
   "cell_type": "markdown",
   "metadata": {},
   "source": [
    "### 2. 定义模型超参和初始化变量"
   ]
  },
  {
   "cell_type": "code",
   "execution_count": 25,
   "metadata": {},
   "outputs": [],
   "source": [
    "F = 2   # 特征个数\n",
    "H1=2    # 隐藏层神经元个数\n",
    "O = 1  # 输出维度"
   ]
  },
  {
   "cell_type": "code",
   "execution_count": 28,
   "metadata": {},
   "outputs": [],
   "source": [
    "# 按正态分布生成初始值\n",
    "np.random.seed(1)\n",
    "# W1 = np.random.normal(0, 1, (num_h_units, num_i_units)) # 2x2\n",
    "# W2 = np.random.normal(0, 1, (num_o_units, num_h_units)) # 1x2\n",
    "\n",
    "# B1 = np.random.random((num_h_units, 1)) # 2x1\n",
    "# B2 = np.random.random((num_o_units, 1)) # 1x1\n",
    "\n",
    "# 随机生成初始值\n",
    "W0 = np.random.random((H1,F))\n",
    "b0 = np.zeros((H1,1))"
   ]
  },
  {
   "cell_type": "code",
   "execution_count": 14,
   "metadata": {},
   "outputs": [],
   "source": [
    "W1 = np.random.random((H1,1))\n",
    "b1 = 0"
   ]
  },
  {
   "cell_type": "code",
   "execution_count": 29,
   "metadata": {},
   "outputs": [
    {
     "data": {
      "text/plain": [
       "array([[0.],\n",
       "       [0.]])"
      ]
     },
     "execution_count": 29,
     "metadata": {},
     "output_type": "execute_result"
    }
   ],
   "source": [
    "b0"
   ]
  },
  {
   "cell_type": "code",
   "execution_count": 22,
   "metadata": {},
   "outputs": [],
   "source": [
    "test = np.array([[0.41919451],\n",
    "       [0.6852195 ]])"
   ]
  },
  {
   "cell_type": "code",
   "execution_count": 23,
   "metadata": {},
   "outputs": [
    {
     "data": {
      "text/plain": [
       "(2, 1)"
      ]
     },
     "execution_count": 23,
     "metadata": {},
     "output_type": "execute_result"
    }
   ],
   "source": [
    "test.shape"
   ]
  },
  {
   "cell_type": "code",
   "execution_count": 24,
   "metadata": {},
   "outputs": [
    {
     "data": {
      "text/plain": [
       "(1, 1)"
      ]
     },
     "execution_count": 24,
     "metadata": {},
     "output_type": "execute_result"
    }
   ],
   "source": [
    "np.array([[0.20445225]]).shape"
   ]
  },
  {
   "cell_type": "code",
   "execution_count": null,
   "metadata": {},
   "outputs": [],
   "source": []
  }
 ],
 "metadata": {
  "kernelspec": {
   "display_name": "Python 3",
   "language": "python",
   "name": "python3"
  },
  "language_info": {
   "codemirror_mode": {
    "name": "ipython",
    "version": 3
   },
   "file_extension": ".py",
   "mimetype": "text/x-python",
   "name": "python",
   "nbconvert_exporter": "python",
   "pygments_lexer": "ipython3",
   "version": "3.7.4"
  }
 },
 "nbformat": 4,
 "nbformat_minor": 2
}
